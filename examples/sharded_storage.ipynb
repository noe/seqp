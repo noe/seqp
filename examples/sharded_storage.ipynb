{
 "cells": [
  {
   "cell_type": "markdown",
   "metadata": {},
   "source": [
    "# `seqp`: how to use sharded storage"
   ]
  },
  {
   "cell_type": "markdown",
   "metadata": {},
   "source": [
    "## Introduction\n",
    "\n",
    "For this example, we will be using DNA data to illustrate sharded storage with `seqp`.\n",
    "\n",
    "We will:\n",
    "\n",
    "1. Download a DNA data file in [FASTA format](https://en.wikipedia.org/wiki/FASTA_format).\n",
    "2. Parse the file with [biopython](http://biopython.org/DIST/docs/tutorial/Tutorial.html#htoc11).\n",
    "3. Store the sequences from the file in multiple HDF5 shards, annotating each DNA sequence with its identifier.\n",
    "4. Read the DNA data back."
   ]
  },
  {
   "cell_type": "markdown",
   "metadata": {},
   "source": [
    "## Download the data and take a look at it"
   ]
  },
  {
   "cell_type": "code",
   "execution_count": 3,
   "metadata": {
    "pycharm": {
     "is_executing": false
    }
   },
   "outputs": [],
   "source": [
    "!wget 'ftp://ftp.ebi.ac.uk/pub/databases/ena/coding/release/con/fasta/rel_con_hum_r141.cds.fasta.gz'\n",
    "!rm -f rel_con_hum_r138.cds.fasta\n",
    "!gunzip 'rel_con_hum_r141.cds.fasta.gz'"
   ]
  },
  {
   "cell_type": "code",
   "execution_count": 4,
   "metadata": {
    "pycharm": {
     "is_executing": false
    }
   },
   "outputs": [
    {
     "name": "stdout",
     "text": [
      "ID: ENA|EAL24309|EAL24309.1\n",
      "   - Sequence: atgaagcatgtgttgaacct...aagcatgtga\n",
      "   - Lenght: 192\n",
      "ID: ENA|EAL24310|EAL24310.1\n",
      "   - Sequence: atggaggggccactcactcc...gctgtactga\n",
      "   - Lenght: 1800\n",
      "ID: ENA|EAL24311|EAL24311.1\n",
      "   - Sequence: atggaggggccactcactcc...gctgtactga\n",
      "   - Lenght: 1692\n",
      "ID: ENA|EAL24312|EAL24312.1\n",
      "   - Sequence: atggacccaaggacatccag...gacctcctga\n",
      "   - Lenght: 276\n",
      "ID: ENA|EAL24313|EAL24313.1\n",
      "   - Sequence: atggccaggcatggctgtct...agacctgtga\n",
      "   - Lenght: 2082\n"
     ],
     "output_type": "stream"
    }
   ],
   "source": [
    "from Bio import SeqIO\n",
    "\n",
    "file_name = 'rel_con_hum_r141.cds.fasta'\n",
    "\n",
    "for k, seq_record in enumerate(SeqIO.parse(file_name, \"fasta\")):\n",
    "    print(\"ID: {}\".format(seq_record.id))\n",
    "    print(\"   - Sequence: {}...{}\".format(seq_record.seq[:20], seq_record.seq[-10:]))\n",
    "    print(\"   - Lenght: {}\".format(len(seq_record)))\n",
    "    if k > 3:\n",
    "        break"
   ]
  },
  {
   "cell_type": "markdown",
   "metadata": {},
   "source": [
    "## Read the DNA data and store it in HDF5 with `seqp` as we go\n",
    "\n",
    "We want to use `Hdf5RecordWriter` to write DNA sequences to files. We also want to write to multiple HDF5 files, each one containing up to a maximum amount of records, so we make use of a `ShardedWriter` decorator.\n",
    "\n",
    "Once we have our writer, we iterate over the FASTA file sequences and store them in the writer. Each nucleotide is saved as a byte-sized integer number obtained by subtracting the ASCII index of 'a' to the nucleotide letter.\n",
    "\n",
    "Once all the sequences are written to files, we write a piece of metadata with a dictionary from the protein name and the index within the files."
   ]
  },
  {
   "cell_type": "code",
   "execution_count": 5,
   "metadata": {
    "pycharm": {
     "is_executing": false
    }
   },
   "outputs": [
    {
     "name": "stderr",
     "text": [
      "65183it [01:46, 610.30it/s]\n"
     ],
     "output_type": "stream"
    },
    {
     "traceback": [
      "\u001b[0;31m---------------------------------------------------------------------------\u001b[0m",
      "\u001b[0;31mTypeError\u001b[0m                                 Traceback (most recent call last)",
      "\u001b[0;32m<ipython-input-5-e7ccbf05ea16>\u001b[0m in \u001b[0;36m<module>\u001b[0;34m\u001b[0m\n\u001b[1;32m     22\u001b[0m         \u001b[0mprotein2idx\u001b[0m\u001b[0;34m[\u001b[0m\u001b[0mprotein\u001b[0m\u001b[0;34m]\u001b[0m \u001b[0;34m=\u001b[0m \u001b[0midx\u001b[0m\u001b[0;34m\u001b[0m\u001b[0;34m\u001b[0m\u001b[0m\n\u001b[1;32m     23\u001b[0m \u001b[0;34m\u001b[0m\u001b[0m\n\u001b[0;32m---> 24\u001b[0;31m     \u001b[0mwriter\u001b[0m\u001b[0;34m.\u001b[0m\u001b[0madd_metadata\u001b[0m\u001b[0;34m(\u001b[0m\u001b[0;34m{\u001b[0m\u001b[0;34m'protein_idx'\u001b[0m\u001b[0;34m:\u001b[0m \u001b[0mjson\u001b[0m\u001b[0;34m.\u001b[0m\u001b[0mdumps\u001b[0m\u001b[0;34m(\u001b[0m\u001b[0mprotein2idx\u001b[0m\u001b[0;34m)\u001b[0m\u001b[0;34m}\u001b[0m\u001b[0;34m)\u001b[0m\u001b[0;34m\u001b[0m\u001b[0;34m\u001b[0m\u001b[0m\n\u001b[0m\u001b[1;32m     25\u001b[0m \u001b[0;34m\u001b[0m\u001b[0m\n\u001b[1;32m     26\u001b[0m \u001b[0;34m\u001b[0m\u001b[0m\n",
      "\u001b[0;32m~/devel/cond-itexp/3party/seqp/seqp/record.py\u001b[0m in \u001b[0;36madd_metadata\u001b[0;34m(self, metadata)\u001b[0m\n\u001b[1;32m    264\u001b[0m         \u001b[0mself\u001b[0m\u001b[0;34m.\u001b[0m\u001b[0mcurrent_writer\u001b[0m\u001b[0;34m.\u001b[0m\u001b[0madd_metadata\u001b[0m\u001b[0;34m(\u001b[0m\u001b[0mmetadata\u001b[0m\u001b[0;34m)\u001b[0m\u001b[0;34m\u001b[0m\u001b[0;34m\u001b[0m\u001b[0m\n\u001b[1;32m    265\u001b[0m         \u001b[0mself\u001b[0m\u001b[0;34m.\u001b[0m\u001b[0mmetadata\u001b[0m\u001b[0;34m.\u001b[0m\u001b[0mupdate\u001b[0m\u001b[0;34m(\u001b[0m\u001b[0mmetadata\u001b[0m\u001b[0;34m)\u001b[0m\u001b[0;34m\u001b[0m\u001b[0;34m\u001b[0m\u001b[0m\n\u001b[0;32m--> 266\u001b[0;31m         \u001b[0mself\u001b[0m\u001b[0;34m.\u001b[0m\u001b[0m_update_metadata_in_previous_files\u001b[0m\u001b[0;34m(\u001b[0m\u001b[0;34m)\u001b[0m\u001b[0;34m\u001b[0m\u001b[0;34m\u001b[0m\u001b[0m\n\u001b[0m\u001b[1;32m    267\u001b[0m \u001b[0;34m\u001b[0m\u001b[0m\n\u001b[1;32m    268\u001b[0m     \u001b[0;32mdef\u001b[0m \u001b[0m_update_metadata_in_previous_files\u001b[0m\u001b[0;34m(\u001b[0m\u001b[0mself\u001b[0m\u001b[0;34m)\u001b[0m \u001b[0;34m->\u001b[0m \u001b[0;32mNone\u001b[0m\u001b[0;34m:\u001b[0m\u001b[0;34m\u001b[0m\u001b[0;34m\u001b[0m\u001b[0m\n",
      "\u001b[0;32m~/devel/cond-itexp/3party/seqp/seqp/record.py\u001b[0m in \u001b[0;36m_update_metadata_in_previous_files\u001b[0;34m(self)\u001b[0m\n\u001b[1;32m    268\u001b[0m     \u001b[0;32mdef\u001b[0m \u001b[0m_update_metadata_in_previous_files\u001b[0m\u001b[0;34m(\u001b[0m\u001b[0mself\u001b[0m\u001b[0;34m)\u001b[0m \u001b[0;34m->\u001b[0m \u001b[0;32mNone\u001b[0m\u001b[0;34m:\u001b[0m\u001b[0;34m\u001b[0m\u001b[0;34m\u001b[0m\u001b[0m\n\u001b[1;32m    269\u001b[0m         \u001b[0;32mfor\u001b[0m \u001b[0mformer_file\u001b[0m \u001b[0;32min\u001b[0m \u001b[0mself\u001b[0m\u001b[0;34m.\u001b[0m\u001b[0mformer_files\u001b[0m\u001b[0;34m:\u001b[0m\u001b[0;34m\u001b[0m\u001b[0;34m\u001b[0m\u001b[0m\n\u001b[0;32m--> 270\u001b[0;31m             \u001b[0;32mwith\u001b[0m \u001b[0mself\u001b[0m\u001b[0;34m.\u001b[0m\u001b[0m_writer_for\u001b[0m\u001b[0;34m(\u001b[0m\u001b[0mformer_file\u001b[0m\u001b[0;34m,\u001b[0m \u001b[0mappend\u001b[0m\u001b[0;34m=\u001b[0m\u001b[0;32mTrue\u001b[0m\u001b[0;34m)\u001b[0m \u001b[0;32mas\u001b[0m \u001b[0mwriter\u001b[0m\u001b[0;34m:\u001b[0m\u001b[0;34m\u001b[0m\u001b[0;34m\u001b[0m\u001b[0m\n\u001b[0m\u001b[1;32m    271\u001b[0m                 \u001b[0mwriter\u001b[0m\u001b[0;34m.\u001b[0m\u001b[0madd_metadata\u001b[0m\u001b[0;34m(\u001b[0m\u001b[0mself\u001b[0m\u001b[0;34m.\u001b[0m\u001b[0mmetadata\u001b[0m\u001b[0;34m)\u001b[0m\u001b[0;34m\u001b[0m\u001b[0;34m\u001b[0m\u001b[0m\n",
      "\u001b[0;31mTypeError\u001b[0m: _writer_for() missing 1 required positional argument: 'initial_index'"
     ],
     "ename": "TypeError",
     "evalue": "_writer_for() missing 1 required positional argument: 'initial_index'",
     "output_type": "error"
    }
   ],
   "source": [
    "import json\n",
    "import numpy as np\n",
    "from seqp.hdf5 import Hdf5RecordWriter\n",
    "from seqp.record import ShardedWriter\n",
    "from tqdm import tqdm\n",
    "\n",
    "def nucleotide2num(letter: str) -> int:\n",
    "    \"\"\" Converts a nucleoide letter to an integer\"\"\"\n",
    "    return ord(letter.lower()) - ord('a')\n",
    "\n",
    "protein2idx = dict()\n",
    "output_file_template = \"dna_example_{:02d}.hdf5\"\n",
    "\n",
    "with ShardedWriter(Hdf5RecordWriter,\n",
    "                   output_file_template,\n",
    "                   max_records_per_shard=5000) as writer:\n",
    "\n",
    "    for seq_record in tqdm(SeqIO.parse(file_name, \"fasta\")):\n",
    "        _, _, protein = seq_record.id.split('|')\n",
    "        sequence = [nucleotide2num(letter) for letter in seq_record.seq]\n",
    "        idx = writer.write(np.array(sequence, dtype=np.uint8))\n",
    "        protein2idx[protein] = idx\n",
    "\n",
    "    writer.add_metadata({'protein_idx': json.dumps(protein2idx)})\n"
   ]
  },
  {
   "cell_type": "markdown",
   "metadata": {},
   "source": [
    "## Read the HDF5 records back\n",
    "\n",
    "We open the HDF5 files with a `Hdf5RecordReader`. First, we read back the dictionary with the indexes of each protein sequence, and then we retrieve the sequences associated with some specific target proteins."
   ]
  },
  {
   "cell_type": "code",
   "execution_count": null,
   "metadata": {
    "pycharm": {
     "is_executing": false
    }
   },
   "outputs": [],
   "source": [
    "from glob import glob\n",
    "import json\n",
    "from seqp.hdf5 import Hdf5RecordReader\n",
    "\n",
    "target_proteins = ['EAL24309.1', 'EAL24312.1']\n",
    "\n",
    "def num2nucleotide(num: int) -> str:\n",
    "    \"\"\" Converts an integer to a nucleoide letter\"\"\"\n",
    "    return chr(num + ord('a'))\n",
    "\n",
    "with Hdf5RecordReader(glob('dna_example_*.hdf5')) as reader:\n",
    "    loaded_protein2idx = json.loads(reader.metadata('protein_idx'))\n",
    "    indexes = set(reader.indexes())\n",
    "    for protein in target_proteins:\n",
    "        sequence = reader.retrieve(protein2idx[protein])\n",
    "        sequence = \"\".join([num2nucleotide(n) for n in sequence.tolist()])\n",
    "        print(\"{} : {}...{}\".format(protein, sequence[:20], sequence[-10:]))"
   ]
  }
 ],
 "metadata": {
  "kernelspec": {
   "display_name": "Python 3",
   "language": "python",
   "name": "python3"
  },
  "language_info": {
   "codemirror_mode": {
    "name": "ipython",
    "version": 3
   },
   "file_extension": ".py",
   "mimetype": "text/x-python",
   "name": "python",
   "nbconvert_exporter": "python",
   "pygments_lexer": "ipython3",
   "version": "3.6.8"
  },
  "pycharm": {
   "stem_cell": {
    "cell_type": "raw",
    "source": [],
    "metadata": {
     "collapsed": false
    }
   }
  }
 },
 "nbformat": 4,
 "nbformat_minor": 2
}