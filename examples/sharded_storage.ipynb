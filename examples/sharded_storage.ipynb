{
 "cells": [
  {
   "cell_type": "markdown",
   "metadata": {},
   "source": [
    "# `seqp`: how to use sharded storage"
   ]
  },
  {
   "cell_type": "markdown",
   "metadata": {},
   "source": [
    "## Introduction\n",
    "\n",
    "For this example, we will be using DNA data to illustrate sharded storage with `seqp`.\n",
    "\n",
    "We will:\n",
    "\n",
    "1. Download a DNA data file in [FASTA format](https://en.wikipedia.org/wiki/FASTA_format).\n",
    "2. Parse the file with [biopython](http://biopython.org/DIST/docs/tutorial/Tutorial.html#htoc11).\n",
    "3. Store the sequences from the file in multiple HDF5 shards, annotating each DNA sequence with its identifier.\n",
    "4. Read the DNA data back."
   ]
  },
  {
   "cell_type": "markdown",
   "metadata": {},
   "source": [
    "First, we will install some python libraries..."
   ]
  },
  {
   "cell_type": "code",
   "execution_count": 1,
   "metadata": {},
   "outputs": [
    {
     "name": "stdout",
     "output_type": "stream",
     "text": [
      "Note: you may need to restart the kernel to use updated packages.\n"
     ]
    }
   ],
   "source": [
    "pip install biopython tqdm numpy"
   ]
  },
  {
   "cell_type": "markdown",
   "metadata": {},
   "source": [
    "## Download the data and take a look at it"
   ]
  },
  {
   "cell_type": "code",
   "execution_count": 2,
   "metadata": {
    "pycharm": {
     "is_executing": false
    }
   },
   "outputs": [
    {
     "name": "stdout",
     "output_type": "stream",
     "text": [
      "--2020-05-15 12:39:33--  ftp://ftp.ebi.ac.uk/pub/databases/ena/coding/release/con/fasta/rel_con_hum_r143.cds.fasta.gz\n",
      "           => ‘rel_con_hum_r143.cds.fasta.gz’\n",
      "Resolving ftp.ebi.ac.uk (ftp.ebi.ac.uk)... 193.62.197.74\n",
      "Connecting to ftp.ebi.ac.uk (ftp.ebi.ac.uk)|193.62.197.74|:21... connected.\n",
      "Logging in as anonymous ... Logged in!\n",
      "==> SYST ... done.    ==> PWD ... done.\n",
      "==> TYPE I ... done.  ==> CWD (1) /pub/databases/ena/coding/release/con/fasta ... done.\n",
      "==> SIZE rel_con_hum_r143.cds.fasta.gz ... 15668035\n",
      "==> PASV ... done.    ==> RETR rel_con_hum_r143.cds.fasta.gz ... done.\n",
      "Length: 15668035 (15M) (unauthoritative)\n",
      "\n",
      "rel_con_hum_r143.cd 100%[===================>]  14.94M  7.19MB/s    in 2.1s    \n",
      "\n",
      "2020-05-15 12:39:35 (7.19 MB/s) - ‘rel_con_hum_r143.cds.fasta.gz’ saved [15668035]\n",
      "\n"
     ]
    }
   ],
   "source": [
    "!wget 'ftp://ftp.ebi.ac.uk/pub/databases/ena/coding/release/con/fasta/rel_con_hum_r143.cds.fasta.gz' -O rel_con_hum_r143.cds.fasta.gz\n",
    "!gunzip -f 'rel_con_hum_r143.cds.fasta.gz'"
   ]
  },
  {
   "cell_type": "code",
   "execution_count": 3,
   "metadata": {
    "pycharm": {
     "is_executing": false
    }
   },
   "outputs": [
    {
     "name": "stdout",
     "output_type": "stream",
     "text": [
      "ID: ENA|EAL24309|EAL24309.1\n",
      "   - Sequence: atgaagcatgtgttgaacct...aagcatgtga\n",
      "   - Lenght: 192\n",
      "ID: ENA|EAL24310|EAL24310.1\n",
      "   - Sequence: atggaggggccactcactcc...gctgtactga\n",
      "   - Lenght: 1800\n",
      "ID: ENA|EAL24311|EAL24311.1\n",
      "   - Sequence: atggaggggccactcactcc...gctgtactga\n",
      "   - Lenght: 1692\n",
      "ID: ENA|EAL24312|EAL24312.1\n",
      "   - Sequence: atggacccaaggacatccag...gacctcctga\n",
      "   - Lenght: 276\n",
      "ID: ENA|EAL24313|EAL24313.1\n",
      "   - Sequence: atggccaggcatggctgtct...agacctgtga\n",
      "   - Lenght: 2082\n"
     ]
    }
   ],
   "source": [
    "from Bio import SeqIO\n",
    "\n",
    "file_name = 'rel_con_hum_r143.cds.fasta'\n",
    "\n",
    "for k, seq_record in enumerate(SeqIO.parse(file_name, \"fasta\")):\n",
    "    print(\"ID: {}\".format(seq_record.id))\n",
    "    print(\"   - Sequence: {}...{}\".format(seq_record.seq[:20], seq_record.seq[-10:]))\n",
    "    print(\"   - Lenght: {}\".format(len(seq_record)))\n",
    "    if k > 3:\n",
    "        break"
   ]
  },
  {
   "cell_type": "markdown",
   "metadata": {},
   "source": [
    "## Read the DNA data and store it in HDF5 with `seqp` as we go\n",
    "\n",
    "We want to use `Hdf5RecordWriter` to write DNA sequences to files. We also want to write to multiple HDF5 files, each one containing up to a maximum amount of records, so we make use of a `ShardedWriter` decorator.\n",
    "\n",
    "Once we have our writer, we iterate over the FASTA file sequences and store them in the writer. Each nucleotide is saved as a byte-sized integer number obtained by subtracting the ASCII index of 'a' to the nucleotide letter.\n",
    "\n",
    "Once all the sequences are written to files, we write a piece of metadata with a dictionary from the protein name and the index within the files."
   ]
  },
  {
   "cell_type": "code",
   "execution_count": 4,
   "metadata": {
    "pycharm": {
     "is_executing": false
    }
   },
   "outputs": [
    {
     "name": "stderr",
     "output_type": "stream",
     "text": [
      "65183it [01:13, 888.76it/s] \n"
     ]
    }
   ],
   "source": [
    "import json\n",
    "import numpy as np\n",
    "from seqp.hdf5 import Hdf5RecordWriter\n",
    "from seqp.record import ShardedWriter\n",
    "from tqdm import tqdm\n",
    "\n",
    "def nucleotide2num(letter: str) -> int:\n",
    "    \"\"\" Converts a nucleoide letter to an integer\"\"\"\n",
    "    return ord(letter.lower()) - ord('a')\n",
    "\n",
    "protein2idx = dict()\n",
    "output_file_template = \"dna_example_{:02d}.hdf5\"\n",
    "\n",
    "with ShardedWriter(Hdf5RecordWriter,\n",
    "                   output_file_template,\n",
    "                   max_records_per_shard=5000) as writer:\n",
    "\n",
    "    for seq_record in tqdm(SeqIO.parse(file_name, \"fasta\")):\n",
    "        _, _, protein = seq_record.id.split('|')\n",
    "        sequence = [nucleotide2num(letter) for letter in seq_record.seq]\n",
    "        idx = writer.write(np.array(sequence, dtype=np.uint8))\n",
    "        protein2idx[protein] = idx\n",
    "\n",
    "    writer.add_metadata({'protein_idx': json.dumps(protein2idx)})\n"
   ]
  },
  {
   "cell_type": "markdown",
   "metadata": {},
   "source": [
    "## Read the HDF5 records back\n",
    "\n",
    "We open the HDF5 files with a `Hdf5RecordReader`. First, we read back the dictionary with the indexes of each protein sequence, and then we retrieve the sequences associated with some specific target proteins."
   ]
  },
  {
   "cell_type": "code",
   "execution_count": 5,
   "metadata": {
    "pycharm": {
     "is_executing": false
    }
   },
   "outputs": [
    {
     "name": "stdout",
     "output_type": "stream",
     "text": [
      "EAL24309.1 : atgaagcatgtgttgaacct...aagcatgtga\n",
      "EAL24312.1 : atggacccaaggacatccag...gacctcctga\n"
     ]
    }
   ],
   "source": [
    "from glob import glob\n",
    "import json\n",
    "from seqp.hdf5 import Hdf5RecordReader\n",
    "\n",
    "target_proteins = ['EAL24309.1', 'EAL24312.1']\n",
    "\n",
    "def num2nucleotide(num: int) -> str:\n",
    "    \"\"\" Converts an integer to a nucleoide letter\"\"\"\n",
    "    return chr(num + ord('a'))\n",
    "\n",
    "with Hdf5RecordReader(glob('dna_example_*.hdf5')) as reader:\n",
    "    loaded_protein2idx = json.loads(reader.metadata('protein_idx'))\n",
    "    indexes = set(reader.indexes())\n",
    "    for protein in target_proteins:\n",
    "        sequence = reader.retrieve(protein2idx[protein])\n",
    "        sequence = \"\".join([num2nucleotide(n) for n in sequence.tolist()])\n",
    "        print(\"{} : {}...{}\".format(protein, sequence[:20], sequence[-10:]))"
   ]
  },
  {
   "cell_type": "markdown",
   "metadata": {},
   "source": [
    "# The same but with records with fields\n",
    "\n",
    "We just need to specify the `sequence_field` and `fields` parameters, and provide a dictionary with such keys to function `write`."
   ]
  },
  {
   "cell_type": "code",
   "execution_count": 6,
   "metadata": {},
   "outputs": [
    {
     "name": "stderr",
     "output_type": "stream",
     "text": [
      "65183it [01:26, 757.52it/s]\n"
     ]
    }
   ],
   "source": [
    "output_file_template = \"fields_dna_example_{:02d}.hdf5\"\n",
    "\n",
    "SEQUENCE_FIELD = 'seq'\n",
    "OTHER_FIELD = 'other'\n",
    "FIELDS = [SEQUENCE_FIELD, OTHER_FIELD]\n",
    "\n",
    "with ShardedWriter(Hdf5RecordWriter,\n",
    "                   output_file_template,\n",
    "                   sequence_field=SEQUENCE_FIELD,\n",
    "                   fields=FIELDS,\n",
    "                   max_records_per_shard=5000) as writer:\n",
    "\n",
    "    for seq_record in tqdm(SeqIO.parse(file_name, \"fasta\")):\n",
    "        _, _, protein = seq_record.id.split('|')\n",
    "        sequence = [nucleotide2num(letter) for letter in seq_record.seq]\n",
    "        record = {'seq': np.array(sequence, dtype=np.uint8),\n",
    "                  'other': np.array(sequence[:10], dtype=np.uint8)}\n",
    "        idx = writer.write(record)\n",
    "        protein2idx[protein] = idx\n",
    "\n",
    "    writer.add_metadata({'protein_idx': json.dumps(protein2idx)})"
   ]
  },
  {
   "cell_type": "markdown",
   "metadata": {},
   "source": [
    "When reading back the records, we don't need to specify the fields, just `retrieve` would return a dictionary instead of a plain `np.ndarray`."
   ]
  },
  {
   "cell_type": "code",
   "execution_count": 7,
   "metadata": {},
   "outputs": [
    {
     "name": "stdout",
     "output_type": "stream",
     "text": [
      "EAL24309.1 : atgaagcatgtgttgaacct...aagcatgtga\n",
      "EAL24312.1 : atggacccaaggacatccag...gacctcctga\n"
     ]
    }
   ],
   "source": [
    "with Hdf5RecordReader(glob('fields_dna_example_*.hdf5')) as reader:\n",
    "    loaded_protein2idx = json.loads(reader.metadata('protein_idx'))\n",
    "    indexes = set(reader.indexes())\n",
    "    for protein in target_proteins:\n",
    "        record = reader.retrieve(protein2idx[protein])\n",
    "        sequence = record[SEQUENCE_FIELD]\n",
    "        sequence = \"\".join([num2nucleotide(n) for n in sequence.tolist()])\n",
    "        print(\"{} : {}...{}\".format(protein, sequence[:20], sequence[-10:]))"
   ]
  }
 ],
 "metadata": {
  "kernelspec": {
   "display_name": "Python 3",
   "language": "python",
   "name": "python3"
  },
  "language_info": {
   "codemirror_mode": {
    "name": "ipython",
    "version": 3
   },
   "file_extension": ".py",
   "mimetype": "text/x-python",
   "name": "python",
   "nbconvert_exporter": "python",
   "pygments_lexer": "ipython3",
   "version": "3.7.7"
  },
  "pycharm": {
   "stem_cell": {
    "cell_type": "raw",
    "metadata": {
     "collapsed": false
    },
    "source": []
   }
  }
 },
 "nbformat": 4,
 "nbformat_minor": 2
}
